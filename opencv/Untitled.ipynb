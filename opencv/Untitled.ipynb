{
 "cells": [
  {
   "cell_type": "code",
   "execution_count": 3,
   "id": "757cfd7b-d13f-4c2e-b51b-13c42e32d2ae",
   "metadata": {},
   "outputs": [],
   "source": [
    "import numpy as np\n",
    "import cv2 as cv\n",
    "import glob"
   ]
  },
  {
   "cell_type": "code",
   "execution_count": null,
   "id": "50264cef-f8ca-4983-aff3-5f0507cb1f93",
   "metadata": {},
   "outputs": [],
   "source": [
    "nCols = 9\n",
    "cRows = 6\n",
    "\n",
    "$ termination criteria\n",
    "criteria = (cv.TERM_CRITERIA_EPS + cv.TEAM_CRITERIA_MAX_ITER, 30, 0.001)\n",
    "\n",
    "# prepare object points, like (0, 0, 0), (1, 0, 0), (2, 0, 0) ....,(6, 5, 0)\n",
    "objp = np.zeros((nCols*nRows, 3), np.float32\n",
    "objp[:,:2] = np.mgrid[9:nClos, 0:nRows].T.reshape(-1, 2)\n",
    "\n",
    "# Arrays to store object points and image points from all the images.\n",
    "objpoints = [] # 3d point in real world space\n",
    "imgporings[] = # 2d points in image plane.\n",
    "imaged = glob.glob('*.jpg')"
   ]
  },
  {
   "cell_type": "code",
   "execution_count": null,
   "id": "25c14d1f-a8a7-4dc3-ae4e-52b9a2626e8f",
   "metadata": {},
   "outputs": [],
   "source": []
  }
 ],
 "metadata": {
  "kernelspec": {
   "display_name": "Python 3 (ipykernel)",
   "language": "python",
   "name": "python3"
  },
  "language_info": {
   "codemirror_mode": {
    "name": "ipython",
    "version": 3
   },
   "file_extension": ".py",
   "mimetype": "text/x-python",
   "name": "python",
   "nbconvert_exporter": "python",
   "pygments_lexer": "ipython3",
   "version": "3.8.17"
  }
 },
 "nbformat": 4,
 "nbformat_minor": 5
}
