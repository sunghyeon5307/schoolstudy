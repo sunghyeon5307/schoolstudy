{
 "cells": [
  {
   "cell_type": "code",
   "execution_count": 1,
   "id": "c4289f94-1f9d-42be-bf40-a131f768b419",
   "metadata": {},
   "outputs": [],
   "source": [
    "import cv2\n",
    "import numpy as np"
   ]
  },
  {
   "cell_type": "code",
   "execution_count": null,
   "id": "675f6fd7-7e3f-4c02-964f-d2bad9bfa191",
   "metadata": {},
   "outputs": [
    {
     "ename": "TypeError",
     "evalue": "nothing() takes 0 positional arguments but 1 was given",
     "output_type": "error",
     "traceback": [
      "\u001b[0;31m---------------------------------------------------------------------------\u001b[0m",
      "\u001b[0;31mTypeError\u001b[0m                                 Traceback (most recent call last)",
      "\u001b[0;31mTypeError\u001b[0m: nothing() takes 0 positional arguments but 1 was given"
     ]
    },
    {
     "ename": "TypeError",
     "evalue": "nothing() takes 0 positional arguments but 1 was given",
     "output_type": "error",
     "traceback": [
      "\u001b[0;31m---------------------------------------------------------------------------\u001b[0m",
      "\u001b[0;31mTypeError\u001b[0m                                 Traceback (most recent call last)",
      "\u001b[0;31mTypeError\u001b[0m: nothing() takes 0 positional arguments but 1 was given"
     ]
    },
    {
     "ename": "TypeError",
     "evalue": "nothing() takes 0 positional arguments but 1 was given",
     "output_type": "error",
     "traceback": [
      "\u001b[0;31m---------------------------------------------------------------------------\u001b[0m",
      "\u001b[0;31mTypeError\u001b[0m                                 Traceback (most recent call last)",
      "\u001b[0;31mTypeError\u001b[0m: nothing() takes 0 positional arguments but 1 was given"
     ]
    },
    {
     "ename": "TypeError",
     "evalue": "nothing() takes 0 positional arguments but 1 was given",
     "output_