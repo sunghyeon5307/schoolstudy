{
 "cells": [
  {
   "cell_type": "code",
   "execution_count": 1,
   "id": "c4289f94-1f9d-42be-bf40-a131f768b419",
   "metadata": {},
   "outputs": [],
   "source": [
    "import cv2\n",
    "import numpy as np"
   ]
  },
  {
   "cel