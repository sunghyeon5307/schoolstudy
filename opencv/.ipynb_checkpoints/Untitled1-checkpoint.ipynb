{
 "cells": [
  {
   "cell_type": "code",
   "execution_count": 19,
   "id": "2d0b4d75-b821-43cc-9389-63362648ab5e",
   "metadata": {},
   "outputs": [
    {
     "ename": "TypeError",
     "evalue": "unsupported operand type(s) for @: 'int' and 'int'",
     "output_type": "error",
     "traceback": [
      "\u001b[0;31m---------------------------------------------------------------------------\u001b[0m",
      "\u001b[0;31mTypeError\u001b[0m                                 Traceback (most recent call last)",
      "Cell \u001b[0;32mIn[19], line 30\u001b[0m\n\u001b[1;32m     28\u001b[0m         cv\u001b[38;5;241m.\u001b[39mdrawChessboardCorners(img, (nCols,nRows), corners2, ret)\n\u001b[1;32m     29\u001b[0m         cv\u001b[38;5;241m.\u001b[39mimshow(\u001b[38;5;124m'\u001b[39m\u001b[38;5;124mimg\u001b[39m\u001b[38;5;124m'\u001b[39m, img)\n\u001b[0;32m---> 30\u001b[0m         cv\u001b[38;5;241m.\u001b[39mwaitKey(\u001b[38;5;241;43m5\u001b[39;49m\u001b[38;5;241;43m@\u001b[39;49m\u001b[38;5;241;43m0\u001b[39;49m)\n\u001b[1;32m     31\u001b[0m cv\u001b[38;5;241m.\u001b[39mdestroyAllWindows()\n\u001b[1;32m     34\u001b[0m \u001b[38;5;66;03m# Calibration #\u001b[39;00m\n",
      "\u001b[0;31mTypeError\u001b[0m: unsupported operand type(s) for @: 'int' and 'int'"
     ]
    }
   ],
   "source": [
    "import numpy as np\n",
    "import cv2 as cv\n",
    "import glob\n",
    "\n",
    "nCols = 9\n",
    "nRows = 6\n",
    "\n",
    "criteria = (cv.TERM_CRITERIA_EPS + cv.TERM_CRITERIA_MAX_ITER, 3, 0.001)\n",
    "\n",
    "objp = np.zeros((nCols*nRows, 3), np.float32)\n",
    "objp[:, :2] = np.mgrid[0:nCols, 0:nRows].T.reshape(-1, 2)\n",
    "\n",
    "objpoints = []\n",
    "imgpoints = []\n",
    "images = glob.glob('*.jpg')\n",
    "\n",
    "for fname in images:\n",
    "    img = cv.imread(fname)\n",
    "    gray = cv.cvtColor(img, cv.COLOR_BGR2GRAY)\n",
    "    # Find the chess board corners\n",
    "    ret, corners = cv.findChessboardCorners(gray, (nCols,nRows), None)\n",
    "    # If found, add object points, image points (after refining them)\n",
    "    if ret == True:\n",
    "        objpoints.append(objp)\n",
    "        corners2 = cv.cornerSubPix(gray,corners, (11,11), (-1,-1), criteria)\n",
    "        imgpoints.append(corners2)\n",
    "        # Draw and display the corners\n",
    "        cv.drawChessboardCorners(img, (nCols,nRows), corners2, ret)\n",
    "        cv.imshow('img', img)\n",
    "        cv.waitKey(50)\n",
    "cv.destroyAllWindows()\n",
    "\n",
    "\n",
    "# Calibration #\n",
    "ret, mtx, dist, rvecs, tvecs = cv.calibrateCamera(objpoints, imgpoints, gray.shape[::-1], None, None)\n",
    "\n",
    "# Undistortion #\n",
    "\n",
    "img = cv.imread(images[0])\n",
    "\n",
    "h, w = img.shape[:2]\n",
    "\n",
    "newcameramtx, roi = cv.getOptimalNewCameraMatrix(mtx, dist, (w,h), 1, (w,h))\n",
    "\n",
    "# cv.undistort\n",
    "dst = cv.undistort(img, mtx, dist, None, newcameramtx)\n",
    "\n",
    "# crop the image\n",
    "\n",
    "x, y, W, h = roi\n",
    "\n",
    "dst = dst[y:y+h, x:x+w]\n",
    "cv.imwrite('calibresult.png', dst)"
   ]
  },
  {
   "cell_type": "code",
   "execution_count": null,
   "id": "b610df63-b4d6-47ad-8863-f8dc23a7af84",
   "metadata": {},
   "outputs": [],
   "source": []
  }
 ],
 "metadata": {
  "kernelspec": {
   "display_name": "Python 3 (ipykernel)",
   "language": "python",
   "name": "python3"
  },
  "language_info": {
   "codemirror_mode": {
    "name": "ipython",
    "version": 3
   },
   "file_extension": ".py",
   "mimetype": "text/x-python",
   "name": "python",
   "nbconvert_exporter": "python",
   "pygments_lexer": "ipython3",
   "version": "3.8.17"
  }
 },
 "nbformat": 4,
 "nbformat_minor": 5
}
